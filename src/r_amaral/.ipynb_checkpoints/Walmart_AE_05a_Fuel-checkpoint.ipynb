{
 "cells": [
  {
   "cell_type": "code",
   "execution_count": 33,
   "id": "e044526a",
   "metadata": {
    "vscode": {
     "languageId": "r"
    }
   },
   "outputs": [],
   "source": [
    "df = read.csv(\"./Walmart_Sales_Updated.csv\")"
   ]
  },
  {
   "cell_type": "code",
   "execution_count": 34,
   "id": "13cbb908",
   "metadata": {
    "vscode": {
     "languageId": "r"
    }
   },
   "outputs": [],
   "source": [
    "#Conferir se já não foi alterado e converter coluna 'Date pata formato Date\n",
    "if ( class(df$Date) != \"Date\" ) {\n",
    "  df$Date = as.Date(df$Date, format = \"%Y-%m-%d\")\n",
    "}\n",
    "\n"
   ]
  },
  {
   "cell_type": "code",
   "execution_count": 35,
   "id": "b8d01540",
   "metadata": {},
   "outputs": [],
   "source": [
    "#Converte Fuel_Price para variação semanal\n",
    "for (nstore in 1:45) {\n",
    "\n",
    "\n",
    "    df[df$Store == nstore, \"Fuel_Price\"] = c(0, diff(df[df$Store == nstore, \"Fuel_Price\"]) / df[df$Store == nstore, \"Fuel_Price\"][-length(df[df$Store == nstore, \"Fuel_Price\"])]) * 100\n",
    "    \n",
    "}"
   ]
  },
  {
   "cell_type": "code",
   "execution_count": 36,
   "id": "3cdabae7",
   "metadata": {
    "vscode": {
     "languageId": "r"
    }
   },
   "outputs": [
    {
     "data": {
      "text/html": [
       "<table>\n",
       "<thead><tr><th scope=col>X</th><th scope=col>Store</th><th scope=col>Date</th><th scope=col>Weekly_Sales</th><th scope=col>Holiday_Flag</th><th scope=col>Temperature</th><th scope=col>Fuel_Price</th><th scope=col>CPI</th><th scope=col>Unemployment</th><th scope=col>Weekly_CPI</th></tr></thead>\n",
       "<tbody>\n",
       "\t<tr><td>1         </td><td>1         </td><td>2010-02-05</td><td>1643691   </td><td>0         </td><td>42.31     </td><td> 0.000000 </td><td>211.0964  </td><td>8.106     </td><td>        NA</td></tr>\n",
       "\t<tr><td>2         </td><td>1         </td><td>2010-02-12</td><td>1641957   </td><td>1         </td><td>38.51     </td><td>-0.933126 </td><td>211.2422  </td><td>8.106     </td><td>0.06907348</td></tr>\n",
       "\t<tr><td>3         </td><td>1         </td><td>2010-02-19</td><td>1611968   </td><td>0         </td><td>39.93     </td><td>-1.334380 </td><td>211.2891  </td><td>8.106     </td><td>0.02223661</td></tr>\n",
       "\t<tr><td>4         </td><td>1         </td><td>2010-02-26</td><td>1409728   </td><td>0         </td><td>46.63     </td><td> 1.869531 </td><td>211.3196  </td><td>8.106     </td><td>0.01443520</td></tr>\n",
       "\t<tr><td>5         </td><td>1         </td><td>2010-03-05</td><td>1554807   </td><td>0         </td><td>46.50     </td><td> 2.499024 </td><td>211.3501  </td><td>8.106     </td><td>0.01443311</td></tr>\n",
       "\t<tr><td>6         </td><td>1         </td><td>2010-03-12</td><td>1439542   </td><td>0         </td><td>57.79     </td><td> 1.600000 </td><td>211.3806  </td><td>8.106     </td><td>0.01443103</td></tr>\n",
       "</tbody>\n",
       "</table>\n"
      ],
      "text/latex": [
       "\\begin{tabular}{r|llllllllll}\n",
       " X & Store & Date & Weekly\\_Sales & Holiday\\_Flag & Temperature & Fuel\\_Price & CPI & Unemployment & Weekly\\_CPI\\\\\n",
       "\\hline\n",
       "\t 1          & 1          & 2010-02-05 & 1643691    & 0          & 42.31      &  0.000000  & 211.0964   & 8.106      &         NA\\\\\n",
       "\t 2          & 1          & 2010-02-12 & 1641957    & 1          & 38.51      & -0.933126  & 211.2422   & 8.106      & 0.06907348\\\\\n",
       "\t 3          & 1          & 2010-02-19 & 1611968    & 0          & 39.93      & -1.334380  & 211.2891   & 8.106      & 0.02223661\\\\\n",
       "\t 4          & 1          & 2010-02-26 & 1409728    & 0          & 46.63      &  1.869531  & 211.3196   & 8.106      & 0.01443520\\\\\n",
       "\t 5          & 1          & 2010-03-05 & 1554807    & 0          & 46.50      &  2.499024  & 211.3501   & 8.106      & 0.01443311\\\\\n",
       "\t 6          & 1          & 2010-03-12 & 1439542    & 0          & 57.79      &  1.600000  & 211.3806   & 8.106      & 0.01443103\\\\\n",
       "\\end{tabular}\n"
      ],
      "text/markdown": [
       "\n",
       "| X | Store | Date | Weekly_Sales | Holiday_Flag | Temperature | Fuel_Price | CPI | Unemployment | Weekly_CPI |\n",
       "|---|---|---|---|---|---|---|---|---|---|\n",
       "| 1          | 1          | 2010-02-05 | 1643691    | 0          | 42.31      |  0.000000  | 211.0964   | 8.106      |         NA |\n",
       "| 2          | 1          | 2010-02-12 | 1641957    | 1          | 38.51      | -0.933126  | 211.2422   | 8.106      | 0.06907348 |\n",
       "| 3          | 1          | 2010-02-19 | 1611968    | 0          | 39.93      | -1.334380  | 211.2891   | 8.106      | 0.02223661 |\n",
       "| 4          | 1          | 2010-02-26 | 1409728    | 0          | 46.63      |  1.869531  | 211.3196   | 8.106      | 0.01443520 |\n",
       "| 5          | 1          | 2010-03-05 | 1554807    | 0          | 46.50      |  2.499024  | 211.3501   | 8.106      | 0.01443311 |\n",
       "| 6          | 1          | 2010-03-12 | 1439542    | 0          | 57.79      |  1.600000  | 211.3806   | 8.106      | 0.01443103 |\n",
       "\n"
      ],
      "text/plain": [
       "  X Store Date       Weekly_Sales Holiday_Flag Temperature Fuel_Price CPI     \n",
       "1 1 1     2010-02-05 1643691      0            42.31        0.000000  211.0964\n",
       "2 2 1     2010-02-12 1641957      1            38.51       -0.933126  211.2422\n",
       "3 3 1     2010-02-19 1611968      0            39.93       -1.334380  211.2891\n",
       "4 4 1     2010-02-26 1409728      0            46.63        1.869531  211.3196\n",
       "5 5 1     2010-03-05 1554807      0            46.50        2.499024  211.3501\n",
       "6 6 1     2010-03-12 1439542      0            57.79        1.600000  211.3806\n",
       "  Unemployment Weekly_CPI\n",
       "1 8.106                NA\n",
       "2 8.106        0.06907348\n",
       "3 8.106        0.02223661\n",
       "4 8.106        0.01443520\n",
       "5 8.106        0.01443311\n",
       "6 8.106        0.01443103"
      ]
     },
     "metadata": {},
     "output_type": "display_data"
    }
   ],
   "source": [
    "head(df)"
   ]
  },
  {
   "cell_type": "markdown",
   "id": "1153795b",
   "metadata": {},
   "source": [
    "Estudando o efeito da preço do combustível"
   ]
  },
  {
   "cell_type": "code",
   "execution_count": 37,
   "id": "735f5f4f",
   "metadata": {
    "vscode": {
     "languageId": "r"
    }
   },
   "outputs": [
    {
     "data": {
      "image/png": "[encoded data removed]",
      "text/plain": [
       "Plot with title \"Com Outliers - Loja:  19\""
      ]
     },
     "metadata": {},
     "output_type": "display_data"
    }
   ],
   "source": [
    "nstore = 19\n",
    "if (nstore > 0){\n",
    "    dfplot = df[(df$Store == nstore),]\n",
    "} else {\n",
    "    dfplot = df\n",
    "}\n",
    "\n",
    "\n",
    "plot(dfplot$Fuel_Price\t,dfplot$Weekly_Sales/1000000,\n",
    "    ylab = 'Weekly Sales MM',\n",
    "    xlab = 'Fuel Price',\n",
    "    main = paste( 'Com Outliers - Loja: ', nstore))\n",
    "lm_model = lm(dfplot$Weekly_Sales/1000000 ~ dfplot$Fuel_Price\t)\n",
    "abline(lm_model, col=\"red\")\n",
    "\n",
    "r_squared = summary(lm_model)$r.squared\n",
    "legend(\"bottomright\", legend=paste(\"r2 =\", round(r_squared, 5)), \n",
    "       lty=1, col=\"red\", text.col=\"red\")\n"
   ]
  },
  {
   "cell_type": "code",
   "execution_count": 38,
   "id": "69df8213",
   "metadata": {
    "vscode": {
     "languageId": "r"
    }
   },
   "outputs": [
    {
     "data": {
      "image/png": "[encoded data removed]",
      "text/plain": [
       "Plot with title \"Sem Outliers - Loja:  19\""
      ]
     },
     "metadata": {},
     "output_type": "display_data"
    }
   ],
   "source": [
    "nstore = 19\n",
    "\n",
    "# Calculate Q1, Q3, and IQR\n",
    "if (nstore > 0){\n",
    "    Q1 <- quantile(df[df$Store == nstore,]$Weekly_Sales, 0.25)\n",
    "    Q3 <- quantile(df[df$Store == nstore,]$Weekly_Sales, 0.75)\n",
    "    } else {\n",
    "    Q1 <- quantile(df$Weekly_Sales, 0.25)\n",
    "    Q3 <- quantile(df$Weekly_Sales, 0.75) \n",
    "    }\n",
    "\n",
    "IQR <- Q3 - Q1\n",
    "\n",
    "# Define outlier bounds\n",
    "lower_bound <- Q1 - 1.5 * IQR\n",
    "upper_bound <- Q3 + 1.5 * IQR\n",
    "\n",
    "if (nstore > 0){\n",
    "   dfplot = df[(df$Store == nstore) & (df$Weekly_Sales > lower_bound) & (df$Weekly_Sales < upper_bound),]\n",
    "} else {\n",
    "    dfplot = dfplot = df[(df$Weekly_Sales > lower_bound) & (df$Weekly_Sales < upper_bound),]\n",
    "}\n",
    "\n",
    "\n",
    "\n",
    "plot(dfplot$Fuel_Price\t,dfplot$Weekly_Sales/1000000,\n",
    "    ylab = 'Weekly Sales MM',\n",
    "    xlab = 'Fuel',\n",
    "    main = paste( 'Sem Outliers - Loja: ', nstore))\n",
    "lm_model = lm(dfplot$Weekly_Sales/1000000 ~dfplot$Fuel_Price\t)\n",
    "abline(lm_model, col=\"red\")\n",
    "r_squared = summary(lm_model)$r.squared\n",
    "legend(\"bottomright\", legend=paste(\"r2 =\", round(r_squared, 5)), \n",
    "       lty=1, col=\"red\", text.col=\"red\")\n"
   ]
  },
  {
   "cell_type": "code",
   "execution_count": 39,
   "id": "2c78c48d",
   "metadata": {
    "vscode": {
     "languageId": "r"
    }
   },
   "outputs": [
    {
     "data": {
      "image/png": "[encoded data removed]",
      "text/plain": [
       "Plot with title \"Vendas e Variação do Combustível - Loja:  19\""
      ]
     },
     "metadata": {},
     "output_type": "display_data"
    }
   ],
   "source": [
    "dfplot = df[(df$Store == nstore),]\n",
    "\n",
    "minF = min(dfplot[dfplot$Store == nstore,]$Fuel_Price/20)\n",
    "minS =  min(dfplot[dfplot$Store == nstore,]$Weekly_Sales/1000000)\n",
    "minD = minF - minS\n",
    "\n",
    "\n",
    "plot(dfplot$Date,dfplot$Weekly_Sales/1000000,\n",
    "    type='l',\n",
    "    ylab = 'Weekly Sales MM',\n",
    "    xlab = 'Weeks',\n",
    "    main = paste( 'Vendas e Variação do Combustível - Loja: ', nstore))\n",
    "lines(dfplot$Date,(dfplot$Fuel_Price/20)-minD,\n",
    "      col = \"red\")\n",
    "legend(\"topright\", legend=\"Fuel Price\", lty=1, col=\"red\", text.col=\"black\")\n"
   ]
  },
  {
   "cell_type": "markdown",
   "id": "09e49b65",
   "metadata": {},
   "source": [
    "A correlação direta entre o preço do combustível e as vendas é fraca. \n",
    "Agora será verificada am distribuição de vendas por quartis de preço."
   ]
  },
  {
   "cell_type": "code",
   "execution_count": 40,
   "id": "edf4b553",
   "metadata": {},
   "outputs": [
    {
     "data": {
      "image/png": "[encoded data removed]",
      "text/plain": [
       "plot without title"
      ]
     },
     "metadata": {},
     "output_type": "display_data"
    }
   ],
   "source": [
    "Q0_Fuel = min(dfplot[dfplot$Store == nstore,]$Fuel_Price)\n",
    "Q1_Fuel = quantile(dfplot[dfplot$Store == nstore,]$Fuel_Price, 0.25)\n",
    "Q2_Fuel = quantile(dfplot[dfplot$Store == nstore,]$Fuel_Price, 0.50)\n",
    "Q3_Fuel = quantile(dfplot[dfplot$Store == nstore,]$Fuel_Price, 0.75)\n",
    "Q4_Fuel = max(dfplot[dfplot$Store == nstore,]$Fuel_Price)\n",
    "dfplot$Fuel_Quantile = ''\n",
    "\n",
    "label_1 = paste(\"A: \",round(Q0_Fuel, 2),\" - \",round(Q1_Fuel, 2))\n",
    "label_2 = paste(\"B: \",round(Q1_Fuel, 2),\" - \",round(Q2_Fuel, 2))\n",
    "label_3 = paste(\"C: \",round(Q2_Fuel, 2),\" - \",round(Q3_Fuel, 2))\n",
    "label_4 = paste(\"D: \",round(Q3_Fuel, 2),\" - \",round(Q4_Fuel, 2))\n",
    "\n",
    "dfplot$Fuel_Quantile = ifelse(dfplot$Fuel_Price <= Q1_Fuel,label_1, dfplot$Fuel_Quantile)\n",
    "dfplot$Fuel_Quantile = ifelse(dfplot$Fuel_Price > Q1_Fuel & dfplot$Fuel_Price <= Q2_Fuel ,label_2, dfplot$Fuel_Quantile)\n",
    "dfplot$Fuel_Quantile = ifelse(dfplot$Fuel_Price > Q2_Fuel & dfplot$Fuel_Price <= Q3_Fuel ,label_3, dfplot$Fuel_Quantile)\n",
    "dfplot$Fuel_Quantile = ifelse(dfplot$Fuel_Price > Q3_Fuel,label_4, dfplot$Fuel_Quantile)\n",
    "\n",
    "bp = boxplot(Weekly_Sales/1000000 ~ Fuel_Quantile, \n",
    "        data = dfplot,\n",
    "        ylab = 'Weekly Sales (MM)',\n",
    "        xlab = 'Fuel Price Variation Influence'\n",
    "       )\n"
   ]
  },
  {
   "cell_type": "markdown",
   "id": "f957a877",
   "metadata": {},
   "source": [
    "Ao contrário do preço nominal, a variação semanal do preço do combustível \n",
    "impacta o volume de vendas, com valores negativos de variação estando \n",
    "associados às maiores vendas.\n"
   ]
  },
  {
   "cell_type": "code",
   "execution_count": 41,
   "id": "a0e583fa",
   "metadata": {},
   "outputs": [
    {
     "name": "stdout",
     "output_type": "stream",
     "text": [
      "         [,1]     [,2]     [,3]     [,4]\n",
      "[1,] 1.300376 1.255087 1.181205 1.182199\n",
      "[2,] 1.390957 1.366285 1.302363 1.332856\n",
      "[3,] 1.457330 1.406592 1.391580 1.376110\n",
      "[4,] 1.533371 1.482499 1.464122 1.470784\n",
      "[5,] 1.713769 1.642970 1.615988 1.631738\n"
     ]
    }
   ],
   "source": [
    "print(bp$stats)"
   ]
  }
 ],
 "metadata": {
  "kernelspec": {
   "display_name": "R",
   "language": "R",
   "name": "ir"
  },
  "language_info": {
   "codemirror_mode": "r",
   "file_extension": ".r",
   "mimetype": "text/x-r-source",
   "name": "R",
   "pygments_lexer": "r",
   "version": "3.6.1"
  }
 },
 "nbformat": 4,
 "nbformat_minor": 5
}
