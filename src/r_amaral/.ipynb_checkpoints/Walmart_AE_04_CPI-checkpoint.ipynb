{
 "cells": [
  {
   "cell_type": "code",
   "execution_count": 16,
   "id": "9d445463",
   "metadata": {},
   "outputs": [],
   "source": [
    "df = read.csv(\"./Walmart_Sales_Updated.csv\")"
   ]
  },
  {
   "cell_type": "code",
   "execution_count": 17,
   "id": "da7e8759",
   "metadata": {},
   "outputs": [],
   "source": [
    "#Conferir se já não foi alterado e converter coluna 'Date pata formato Date\n",
    "if ( class(df$Date) != \"Date\" ) {\n",
    "  df$Date = as.Date(df$Date, format = \"%Y-%m-%d\")\n",
    "}\n"
   ]
  },
  {
   "cell_type": "code",
   "execution_count": 18,
   "id": "c1621ad5",
   "metadata": {},
   "outputs": [
    {
     "data": {
      "text/html": [
       "<table>\n",
       "<thead><tr><th scope=col>X</th><th scope=col>Store</th><th scope=col>Date</th><th scope=col>Weekly_Sales</th><th scope=col>Holiday_Flag</th><th scope=col>Temperature</th><th scope=col>Fuel_Price</th><th scope=col>CPI</th><th scope=col>Unemployment</th><th scope=col>Weekly_CPI</th></tr></thead>\n",
       "<tbody>\n",
       "\t<tr><td>1         </td><td>1         </td><td>2010-02-05</td><td>1643691   </td><td>0         </td><td>42.31     </td><td>2.572     </td><td>211.0964  </td><td>8.106     </td><td>        NA</td></tr>\n",
       "\t<tr><td>2         </td><td>1         </td><td>2010-02-12</td><td>1641957   </td><td>1         </td><td>38.51     </td><td>2.548     </td><td>211.2422  </td><td>8.106     </td><td>0.06907348</td></tr>\n",
       "\t<tr><td>3         </td><td>1         </td><td>2010-02-19</td><td>1611968   </td><td>0         </td><td>39.93     </td><td>2.514     </td><td>211.2891  </td><td>8.106     </td><td>0.02223661</td></tr>\n",
       "\t<tr><td>4         </td><td>1         </td><td>2010-02-26</td><td>1409728   </td><td>0         </td><td>46.63     </td><td>2.561     </td><td>211.3196  </td><td>8.106     </td><td>0.01443520</td></tr>\n",
       "\t<tr><td>5         </td><td>1         </td><td>2010-03-05</td><td>1554807   </td><td>0         </td><td>46.50     </td><td>2.625     </td><td>211.3501  </td><td>8.106     </td><td>0.01443311</td></tr>\n",
       "\t<tr><td>6         </td><td>1         </td><td>2010-03-12</td><td>1439542   </td><td>0         </td><td>57.79     </td><td>2.667     </td><td>211.3806  </td><td>8.106     </td><td>0.01443103</td></tr>\n",
       "</tbody>\n",
       "</table>\n"
      ],
      "text/latex": [
       "\\begin{tabular}{r|llllllllll}\n",
       " X & Store & Date & Weekly\\_Sales & Holiday\\_Flag & Temperature & Fuel\\_Price & CPI & Unemployment & Weekly\\_CPI\\\\\n",
       "\\hline\n",
       "\t 1          & 1          & 2010-02-05 & 1643691    & 0          & 42.31      & 2.572      & 211.0964   & 8.106      &         NA\\\\\n",
       "\t 2          & 1          & 2010-02-12 & 1641957    & 1          & 38.51      & 2.548      & 211.2422   & 8.106      & 0.06907348\\\\\n",
       "\t 3          & 1          & 2010-02-19 & 1611968    & 0          & 39.93      & 2.514      & 211.2891   & 8.106      & 0.02223661\\\\\n",
       "\t 4          & 1          & 2010-02-26 & 1409728    & 0          & 46.63      & 2.561      & 211.3196   & 8.106      & 0.01443520\\\\\n",
       "\t 5          & 1          & 2010-03-05 & 1554807    & 0          & 46.50      & 2.625      & 211.3501   & 8.106      & 0.01443311\\\\\n",
       "\t 6          & 1          & 2010-03-12 & 1439542    & 0          & 57.79      & 2.667      & 211.3806   & 8.106      & 0.01443103\\\\\n",
       "\\end{tabular}\n"
      ],
      "text/markdown": [
       "\n",
       "| X | Store | Date | Weekly_Sales | Holiday_Flag | Temperature | Fuel_Price | CPI | Unemployment | Weekly_CPI |\n",
       "|---|---|---|---|---|---|---|---|---|---|\n",
       "| 1          | 1          | 2010-02-05 | 1643691    | 0          | 42.31      | 2.572      | 211.0964   | 8.106      |         NA |\n",
       "| 2          | 1          | 2010-02-12 | 1641957    | 1          | 38.51      | 2.548      | 211.2422   | 8.106      | 0.06907348 |\n",
       "| 3          | 1          | 2010-02-19 | 1611968    | 0          | 39.93      | 2.514      | 211.2891   | 8.106      | 0.02223661 |\n",
       "| 4          | 1          | 2010-02-26 | 1409728    | 0          | 46.63      | 2.561      | 211.3196   | 8.106      | 0.01443520 |\n",
       "| 5          | 1          | 2010-03-05 | 1554807    | 0          | 46.50      | 2.625      | 211.3501   | 8.106      | 0.01443311 |\n",
       "| 6          | 1          | 2010-03-12 | 1439542    | 0          | 57.79      | 2.667      | 211.3806   | 8.106      | 0.01443103 |\n",
       "\n"
      ],
      "text/plain": [
       "  X Store Date       Weekly_Sales Holiday_Flag Temperature Fuel_Price CPI     \n",
       "1 1 1     2010-02-05 1643691      0            42.31       2.572      211.0964\n",
       "2 2 1     2010-02-12 1641957      1            38.51       2.548      211.2422\n",
       "3 3 1     2010-02-19 1611968      0            39.93       2.514      211.2891\n",
       "4 4 1     2010-02-26 1409728      0            46.63       2.561      211.3196\n",
       "5 5 1     2010-03-05 1554807      0            46.50       2.625      211.3501\n",
       "6 6 1     2010-03-12 1439542      0            57.79       2.667      211.3806\n",
       "  Unemployment Weekly_CPI\n",
       "1 8.106                NA\n",
       "2 8.106        0.06907348\n",
       "3 8.106        0.02223661\n",
       "4 8.106        0.01443520\n",
       "5 8.106        0.01443311\n",
       "6 8.106        0.01443103"
      ]
     },
     "metadata": {},
     "output_type": "display_data"
    }
   ],
   "source": [
    "head(df)"
   ]
  },
  {
   "cell_type": "markdown",
   "id": "a758b8ef",
   "metadata": {},
   "source": [
    "Estudando o efeito do CPI"
   ]
  },
  {
   "cell_type": "code",
   "execution_count": 19,
   "id": "f483ca82",
   "metadata": {},
   "outputs": [
    {
     "data": {
      "image/png": "[encoded data removed]",
      "text/plain": [
       "Plot with title \"Com Outliers - Loja:  22\""
      ]
     },
     "metadata": {},
     "output_type": "display_data"
    }
   ],
   "source": [
    "nstore = 22\n",
    "if (nstore > 0){\n",
    "    dfplot = df[(df$Store == nstore),]\n",
    "} else {\n",
    "    dfplot = df\n",
    "}\n",
    "\n",
    "\n",
    "\n",
    "plot(dfplot$Weekly_CPI,dfplot$Weekly_Sales/1000000,\n",
    "    ylab = 'Weekly Sales MM',\n",
    "    xlab = 'CPI Week on Week',\n",
    "    main = paste( 'Com Outliers - Loja: ', nstore))\n",
    "lm_model = lm(dfplot$Weekly_Sales/1000000 ~ dfplot$Weekly_CPI)\n",
    "abline(lm_model, col=\"red\")\n",
    "\n",
    "r_squared = summary(lm_model)$r.squared\n",
    "legend(\"bottomright\", legend=paste(\"r2 =\", round(r_squared, 5)), \n",
    "       lty=1, col=\"red\", text.col=\"red\")\n",
    "\n"
   ]
  },
  {
   "cell_type": "code",
   "execution_count": null,
   "id": "15511598",
   "metadata": {},
   "outputs": [],
   "source": []
  },
  {
   "cell_type": "code",
   "execution_count": 20,
   "id": "73c8180f",
   "metadata": {},
   "outputs": [
    {
     "data": {
      "text/html": [
       "2"
      ],
      "text/latex": [
       "2"
      ],
      "text/markdown": [
       "2"
      ],
      "text/plain": [
       "[1] 2"
      ]
     },
     "metadata": {},
     "output_type": "display_data"
    }
   ],
   "source": [
    "2"
   ]
  },
  {
   "cell_type": "code",
   "execution_count": 21,
   "id": "f07c2174",
   "metadata": {},
   "outputs": [
    {
     "data": {
      "image/png": "[encoded data removed]",
      "text/plain": [
       "Plot with title \"Sem Outliers - Loja:  22\""
      ]
     },
     "metadata": {},
     "output_type": "display_data"
    }
   ],
   "source": [
    "nstore = 22\n",
    "\n",
    "# Calculate Q1, Q3, and IQR\n",
    "if (nstore > 0){\n",
    "    Q1 <- quantile(df[df$Store == nstore,]$Weekly_Sales, 0.25)\n",
    "    Q3 <- quantile(df[df$Store == nstore,]$Weekly_Sales, 0.75)\n",
    "    } else {\n",
    "    Q1 <- quantile(df$Weekly_Sales, 0.25)\n",
    "    Q3 <- quantile(df$Weekly_Sales, 0.75) \n",
    "    }\n",
    "\n",
    "IQR <- Q3 - Q1\n",
    "\n",
    "# Define outlier bounds\n",
    "lower_bound <- Q1 - 1.5 * IQR\n",
    "upper_bound <- Q3 + 1.5 * IQR\n",
    "\n",
    "if (nstore > 0){\n",
    "   dfplot = df[(df$Store == nstore) & (df$Weekly_Sales > lower_bound) & (df$Weekly_Sales < upper_bound),]\n",
    "} else {\n",
    "    dfplot = dfplot = df[(df$Weekly_Sales > lower_bound) & (df$Weekly_Sales < upper_bound),]\n",
    "}\n",
    "plot(dfplot$Weekly_CPI,dfplot$Weekly_Sales/1000000,\n",
    "    ylab = 'Weekly Sales MM',\n",
    "    xlab = 'CPI Week on Week',\n",
    "    main = paste( 'Sem Outliers - Loja: ', nstore))\n",
    "\n",
    "lm_model = lm(dfplot$Weekly_Sales/1000000 ~dfplot$Weekly_CPI)\n",
    "abline(lm_model, col=\"red\")\n",
    "\n",
    "r_squared = summary(lm_model)$r.squared\n",
    "legend(\"bottomright\", legend=paste(\"r2 =\", round(r_squared, 5)), \n",
    "       lty=1, col=\"red\", text.col=\"black\")\n",
    "\n",
    "text(50, 0.5, \"Title\", col=\"green\", cex=1.5)"
   ]
  },
  {
   "cell_type": "code",
   "execution_count": 22,
   "id": "095530d3",
   "metadata": {},
   "outputs": [
    {
     "data": {
      "image/png": "[encoded data removed]",
      "text/plain": [
       "Plot with title \"Vendas e CPI - Loja:  22\""
      ]
     },
     "metadata": {},
     "output_type": "display_data"
    }
   ],
   "source": [
    "nstore = 22\n",
    "\n",
    "dfplot = df[(df$Store == nstore),]\n",
    "\n",
    "plot(dfplot$Date,dfplot$Weekly_Sales/1000000,\n",
    "    type='l',\n",
    "    ylab = 'Weekly Sales MM',\n",
    "    xlab = 'Week',\n",
    "    main = paste( 'Vendas e CPI - Loja: ', nstore))\n",
    "lines(dfplot$Date,(dfplot$Weekly_CPI+1),\n",
    "      col = \"red\")\n",
    "abline(h = 1, col = \"red\", lwd = 2)\n",
    "legend(\"bottomright\", legend=\"CPI\", lty=1, col=\"red\", text.col=\"black\")\n"
   ]
  }
 ],
 "metadata": {
  "kernelspec": {
   "display_name": "R",
   "language": "R",
   "name": "ir"
  },
  "language_info": {
   "codemirror_mode": "r",
   "file_extension": ".r",
   "mimetype": "text/x-r-source",
   "name": "R",
   "pygments_lexer": "r",
   "version": "3.6.1"
  }
 },
 "nbformat": 4,
 "nbformat_minor": 5
}
