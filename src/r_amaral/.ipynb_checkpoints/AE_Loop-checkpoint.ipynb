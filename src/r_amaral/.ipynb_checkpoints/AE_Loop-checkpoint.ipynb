{
 "cells": [
  {
   "cell_type": "code",
   "execution_count": 1,
   "id": "40000197",
   "metadata": {},
   "outputs": [
    {
     "data": {
      "text/html": [
       "'D:/anaconda3/envs/r-new/lib/R'"
      ],
      "text/latex": [
       "'D:/anaconda3/envs/r-new/lib/R'"
      ],
      "text/markdown": [
       "'D:/anaconda3/envs/r-new/lib/R'"
      ],
      "text/plain": [
       "[1] \"D:/anaconda3/envs/r-new/lib/R\""
      ]
     },
     "metadata": {},
     "output_type": "display_data"
    }
   ],
   "source": [
    "R.home()"
   ]
  },
  {
   "cell_type": "code",
   "execution_count": 2,
   "id": "8d101541",
   "metadata": {},
   "outputs": [
    {
     "data": {
      "text/plain": [
       "               _                                \n",
       "platform       x86_64-w64-mingw32               \n",
       "arch           x86_64                           \n",
       "os             mingw32                          \n",
       "crt            ucrt                             \n",
       "system         x86_64, mingw32                  \n",
       "status                                          \n",
       "major          4                                \n",
       "minor          4.3                              \n",
       "year           2025                             \n",
       "month          02                               \n",
       "day            28                               \n",
       "svn rev        87843                            \n",
       "language       R                                \n",
       "version.string R version 4.4.3 (2025-02-28 ucrt)\n",
       "nickname       Trophy Case                      "
      ]
     },
     "metadata": {},
     "output_type": "display_data"
    }
   ],
   "source": [
    "version\n"
   ]
  },
  {
   "cell_type": "code",
   "execution_count": 4,
   "id": "d47e7a63-577e-4918-9159-7ef0cbf08611",
   "metadata": {},
   "outputs": [],
   "source": [
    "library(\"ggplot2\")\n"
   ]
  },
  {
   "cell_type": "code",
   "execution_count": null,
   "id": "d19b462b-c1bc-4006-886d-c0be650d6d88",
   "metadata": {},
   "outputs": [],
   "source": []
  },
  {
   "cell_type": "code",
   "execution_count": null,
   "id": "7e68b888-b3b3-4f30-884d-a5c814878f51",
   "metadata": {},
   "outputs": [],
   "source": []
  }
 ],
 "metadata": {
  "kernelspec": {
   "display_name": "R",
   "language": "R",
   "name": "ir"
  },
  "language_info": {
   "codemirror_mode": "r",
   "file_extension": ".r",
   "mimetype": "text/x-r-source",
   "name": "R",
   "pygments_lexer": "r",
   "version": "4.4.3"
  }
 },
 "nbformat": 4,
 "nbformat_minor": 5
}
